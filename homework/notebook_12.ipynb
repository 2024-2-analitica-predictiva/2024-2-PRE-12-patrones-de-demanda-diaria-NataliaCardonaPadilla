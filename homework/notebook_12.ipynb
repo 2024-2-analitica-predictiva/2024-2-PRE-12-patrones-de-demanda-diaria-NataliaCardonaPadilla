{
 "cells": [
  {
   "cell_type": "code",
   "execution_count": null,
   "metadata": {},
   "outputs": [
    {
     "ename": "TypeError",
     "evalue": "read_csv() got an unexpected keyword argument 'context'",
     "output_type": "error",
     "traceback": [
      "\u001b[0;31m---------------------------------------------------------------------------\u001b[0m",
      "\u001b[0;31mTypeError\u001b[0m                                 Traceback (most recent call last)",
      "Cell \u001b[0;32mIn[2], line 12\u001b[0m\n\u001b[1;32m      9\u001b[0m file_url \u001b[38;5;241m=\u001b[39m \u001b[38;5;124mf\u001b[39m\u001b[38;5;124m\"\u001b[39m\u001b[38;5;124mhttps://raw.githubusercontent.com/\u001b[39m\u001b[38;5;132;01m{\u001b[39;00mowner\u001b[38;5;132;01m}\u001b[39;00m\u001b[38;5;124m/\u001b[39m\u001b[38;5;132;01m{\u001b[39;00mrepo\u001b[38;5;132;01m}\u001b[39;00m\u001b[38;5;124m/master/\u001b[39m\u001b[38;5;132;01m{\u001b[39;00mfile\u001b[38;5;132;01m}\u001b[39;00m\u001b[38;5;124m\"\u001b[39m\n\u001b[1;32m     11\u001b[0m context \u001b[38;5;241m=\u001b[39m ssl\u001b[38;5;241m.\u001b[39mcreate_default_context(cafile\u001b[38;5;241m=\u001b[39mcertifi\u001b[38;5;241m.\u001b[39mwhere())\n\u001b[0;32m---> 12\u001b[0m data \u001b[38;5;241m=\u001b[39m \u001b[43mpd\u001b[49m\u001b[38;5;241;43m.\u001b[39;49m\u001b[43mread_csv\u001b[49m\u001b[43m(\u001b[49m\u001b[43mfile_url\u001b[49m\u001b[43m,\u001b[49m\u001b[43m \u001b[49m\u001b[43mcontext\u001b[49m\u001b[38;5;241;43m=\u001b[39;49m\u001b[43mcontext\u001b[49m\u001b[43m,\u001b[49m\u001b[43m \u001b[49m\u001b[43msep\u001b[49m\u001b[38;5;241;43m=\u001b[39;49m\u001b[38;5;124;43m\"\u001b[39;49m\u001b[38;5;124;43m;\u001b[39;49m\u001b[38;5;124;43m\"\u001b[39;49m\u001b[43m,\u001b[49m\u001b[43m \u001b[49m\u001b[43mdecimal\u001b[49m\u001b[38;5;241;43m=\u001b[39;49m\u001b[38;5;124;43m\"\u001b[39;49m\u001b[38;5;124;43m,\u001b[39;49m\u001b[38;5;124;43m\"\u001b[39;49m\u001b[43m,\u001b[49m\u001b[43m \u001b[49m\u001b[43mthousands\u001b[49m\u001b[38;5;241;43m=\u001b[39;49m\u001b[38;5;124;43m\"\u001b[39;49m\u001b[38;5;124;43m.\u001b[39;49m\u001b[38;5;124;43m\"\u001b[39;49m\u001b[43m)\u001b[49m\n\u001b[1;32m     14\u001b[0m data\u001b[38;5;241m.\u001b[39mhead()\n",
      "\u001b[0;31mTypeError\u001b[0m: read_csv() got an unexpected keyword argument 'context'"
     ]
    }
   ],
   "source": [
    "#\n",
    "# Descarga de datos\n",
    "#\n",
    "import pandas as pd\n",
    "\n",
    "\n",
    "owner = \"jdvelasq\"\n",
    "repo = \"datalabs\"\n",
    "file = \"datasets/demanda_comercial.csv\"\n",
    "\n",
    "file_url = f\"https://raw.githubusercontent.com/{owner}/{repo}/master/{file}\"\n",
    "\n",
    "\n",
    "data = pd.read_csv(file_url, sep=\";\", decimal=\",\", thousands=\".\")\n",
    "data.head()"
   ]
  },
  {
   "cell_type": "code",
   "execution_count": null,
   "metadata": {},
   "outputs": [],
   "source": [
    "# Reorganizar los datos y graficarla\n",
    "#\n",
    "# Se organizan los datos para graficarlos.\n",
    "#\n",
    "data_to_plot = data.copy()\n",
    "data_to_plot = data_to_plot.melt(  # melt transpone los datos\n",
    "    id_vars=[\"Fecha\"], var_name=\"hora\", value_name=\"demanda\"\n",
    ")\n",
    "data_to_plot = data_to_plot.sort_values(by=[\"Fecha\", \"hora\"])\n",
    "data_to_plot = data_to_plot.reset_index(drop=True)\n",
    "data_to_plot = data_to_plot.head(500)\n",
    "data_to_plot.head()"
   ]
  },
  {
   "cell_type": "code",
   "execution_count": 5,
   "metadata": {},
   "outputs": [],
   "source": [
    "# crear carpeta de salida\n",
    "#\n",
    "# Crea una carpeta de salida\n",
    "#\n",
    "import os\n",
    "\n",
    "if not os.path.exists(\"../files/plots\"):\n",
    "    os.makedirs(\"../files/plots\")\n",
    "\n",
    "if not os.path.exists(\"../files/data\"):\n",
    "    os.makedirs(\"../files/data\")\n",
    "    \n",
    "    "
   ]
  },
  {
   "cell_type": "code",
   "execution_count": null,
   "metadata": {},
   "outputs": [],
   "source": [
    "# contruir gráfico\n",
    "import matplotlib.pyplot as plt\n",
    "\n",
    "plt.figure(figsize=(10, 6))\n",
    "plt.plot(data_to_plot[\"demanda\"])\n",
    "plt.title(\"Demanda comercial\")\n",
    "plt.xlabel(\"Tiempo\")\n",
    "plt.ylabel(\"Demanda\")\n",
    "plt.grid()\n",
    "plt.savefig(\"../files/plots/demanda-comercial.png\")\n",
    "plt.show()"
   ]
  },
  {
   "cell_type": "code",
   "execution_count": 7,
   "metadata": {},
   "outputs": [],
   "source": [
    "# visiualizar patron del dia\n",
    "# Prepacion de los datos\n",
    "#\n",
    "# Preparación de la data\n",
    "#\n",
    "data = data.dropna()\n",
    "data = data.drop_duplicates()\n",
    "data = data.set_index(\"Fecha\")"
   ]
  },
  {
   "cell_type": "code",
   "execution_count": null,
   "metadata": {},
   "outputs": [],
   "source": [
    "# Patrones de ejemplo\n",
    "#\n",
    "plt.figure(figsize=(7, 4))\n",
    "plt.plot(data.loc[\"2017-06-05\", :], \".-\", color=\"tab:blue\")\n",
    "plt.plot(data.loc[\"2018-06-05\", :], \".-\", color=\"tab:orange\")\n",
    "plt.plot(data.loc[\"2022-06-03\", :], \".-\", color=\"tab:green\")\n",
    "plt.xticks(rotation=90)\n",
    "plt.show()"
   ]
  },
  {
   "cell_type": "code",
   "execution_count": null,
   "metadata": {},
   "outputs": [],
   "source": [
    "#\n",
    "# Se divide cada fila por el máximo de la fila para\n",
    "# hacer adimensionales los datos\n",
    "#\n",
    "data = data.apply(lambda row: row / row.max(), axis=1)\n",
    "data.head(10)\n"
   ]
  },
  {
   "cell_type": "code",
   "execution_count": null,
   "metadata": {},
   "outputs": [],
   "source": [
    "#\n",
    "# Patrones de ejemplo\n",
    "#\n",
    "plt.figure(figsize=(7, 4))\n",
    "plt.plot(data.loc[\"2017-06-05\", :], \".-\", color=\"tab:blue\")\n",
    "plt.plot(data.loc[\"2018-06-04\", :], \".-\", color=\"tab:orange\")\n",
    "plt.plot(data.loc[\"2022-06-05\", :], \".-\", color=\"tab:green\")\n",
    "plt.xticks(rotation=90)\n",
    "plt.savefig(\"../files/plots/demanda-comercial-patrones-ejemplo.png\")\n",
    "plt.show()\n",
    "\n",
    "\n"
   ]
  },
  {
   "cell_type": "code",
   "execution_count": null,
   "metadata": {},
   "outputs": [],
   "source": [
    "# saber el día de la semana de una fecha\n",
    "import datetime\n",
    "\n",
    "\n",
    "for date_str in [\"2017-06-05\", \"2018-06-05\", \"2022-06-05\"]:\n",
    "    date_obj = datetime.datetime.strptime(date_str, \"%Y-%m-%d\")\n",
    "    day_of_week = date_obj.strftime(\"%A\")\n",
    "\n",
    "    print(date_str, day_of_week)\n",
    "    \n",
    "    \n",
    "   \n"
   ]
  },
  {
   "cell_type": "code",
   "execution_count": null,
   "metadata": {},
   "outputs": [],
   "source": [
    "# Como sacar cluster como tal, normalizar los datos\n",
    "# la grafcia dice que se tiene dos tipos de días porque es el cluster con mayor valor\n",
    "# calcula métricas de distancia, para encontrar los más cercanos de acuerdo con un centro (centroide)\n",
    "# matematicamente agrupa los datos en esferas y por eso algunos cluster pueden ser iguales\n",
    "# importante saber que reprsentan los patrones, para la interpretación de datos\n",
    "\n",
    "from sklearn.cluster import KMeans\n",
    "from sklearn.metrics import silhouette_score\n",
    "\n",
    "n_clusters = 10\n",
    "scores = []\n",
    "\n",
    "for n in range(2, n_clusters):\n",
    "\n",
    "    kmeans = KMeans(n_clusters=n, n_init=\"auto\")\n",
    "    kmeans.fit(data)\n",
    "    labels = kmeans.labels_\n",
    "    scores.append(silhouette_score(data, labels, metric=\"euclidean\"))\n",
    "\n",
    "\n",
    "plt.figure(figsize=(5, 4))\n",
    "plt.plot(range(2, n_clusters), scores, marker=\"o\", color=\"tab:blue\", alpha=0.9)\n",
    "plt.xlabel(\"número de clusters\")\n",
    "plt.gca().spines[\"left\"].set_color(\"gray\")\n",
    "plt.gca().spines[\"bottom\"].set_color(\"gray\")\n",
    "plt.gca().spines[\"top\"].set_visible(False)\n",
    "plt.gca().spines[\"right\"].set_visible(False)\n",
    "plt.grid()\n",
    "plt.show()\n"
   ]
  },
  {
   "cell_type": "code",
   "execution_count": null,
   "metadata": {},
   "outputs": [],
   "source": [
    "# Dos patrones óptimos\n",
    "#\n",
    "kmeans = KMeans(n_clusters=2, n_init=\"auto\")\n",
    "kmeans.fit(data)\n",
    "\n",
    "plt.figure(figsize=(7, 4))\n",
    "plt.plot(kmeans.cluster_centers_[0], \".-\", color=\"tab:blue\")\n",
    "plt.plot(kmeans.cluster_centers_[1], \".-\", color=\"tab:orange\")\n",
    "plt.savefig(\"../files/plots/demanda-comercial-perfiles.png\")\n",
    "plt.show()\n"
   ]
  },
  {
   "cell_type": "code",
   "execution_count": null,
   "metadata": {},
   "outputs": [],
   "source": [
    "# Adiciona el numero del cluster correspondiente a cada fila\n",
    "# y agrega el día de la semana (como entero). El domingo\n",
    "# es el día 0.\n",
    "#\n",
    "data = data.assign(cluster=kmeans.labels_)\n",
    "data = data.assign(day=pd.to_datetime(data.index).day_of_week)\n",
    "data[[\"cluster\", \"day\"]]"
   ]
  },
  {
   "cell_type": "code",
   "execution_count": null,
   "metadata": {},
   "outputs": [],
   "source": [
    "\n",
    "# Calcula la frecuencia de cada día por cluster\n",
    "#\n",
    "data_per_cluster_0 = data.loc[data.cluster == 0, \"day\"]\n",
    "days_cluster_0 = data_per_cluster_0.value_counts()\n",
    "days_cluster_0 = days_cluster_0.sort_index()\n",
    "days_cluster_0\n"
   ]
  },
  {
   "cell_type": "code",
   "execution_count": null,
   "metadata": {},
   "outputs": [],
   "source": [
    "# se deberia crear un boolenao para dia festivo y no festivo\n",
    "data_per_cluster_1 = data.loc[data.cluster == 1, \"day\"]\n",
    "days_cluster_1 = data_per_cluster_1.value_counts()\n",
    "days_cluster_1 = days_cluster_1.sort_index()\n",
    "days_cluster_1\n"
   ]
  },
  {
   "cell_type": "code",
   "execution_count": 27,
   "metadata": {},
   "outputs": [],
   "source": [
    "# Salta el resultado\n",
    "#\n",
    "pd.DataFrame(\n",
    "    {\n",
    "        \"days\": list(range(7)),\n",
    "        \"cluster 0\": days_cluster_0,\n",
    "        \"cluster 1\": days_cluster_1,\n",
    "    }\n",
    ").to_csv(\"../files/data/demanda-comercial-dias.csv\")\n",
    "\n",
    "\n"
   ]
  }
 ],
 "metadata": {
  "kernelspec": {
   "display_name": ".venv",
   "language": "python",
   "name": "python3"
  },
  "language_info": {
   "codemirror_mode": {
    "name": "ipython",
    "version": 3
   },
   "file_extension": ".py",
   "mimetype": "text/x-python",
   "name": "python",
   "nbconvert_exporter": "python",
   "pygments_lexer": "ipython3",
   "version": "3.11.5"
  }
 },
 "nbformat": 4,
 "nbformat_minor": 2
}
